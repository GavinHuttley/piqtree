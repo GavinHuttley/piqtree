{
 "cells": [
  {
   "cell_type": "code",
   "execution_count": 1,
   "metadata": {},
   "outputs": [
    {
     "data": {
      "text/plain": [
       "'2024.5.7a1'"
      ]
     },
     "execution_count": 1,
     "metadata": {},
     "output_type": "execute_result"
    }
   ],
   "source": [
    "import cogent3\n",
    "cogent3.__version__\n"
   ]
  },
  {
   "cell_type": "code",
   "execution_count": 2,
   "metadata": {},
   "outputs": [
    {
     "ename": "ImportError",
     "evalue": "/workspaces/pyiqtree2/pyiqtree/libiqtree.cpython-312-x86_64-linux-gnu.so: undefined symbol: _Z21calculate_RF_distanceRKNSt7__cxx1112basic_stringIcSt11char_traitsIcESaIcEEES6_",
     "output_type": "error",
     "traceback": [
      "\u001b[0;31m---------------------------------------------------------------------------\u001b[0m",
      "\u001b[0;31mImportError\u001b[0m                               Traceback (most recent call last)",
      "Cell \u001b[0;32mIn[2], line 1\u001b[0m\n\u001b[0;32m----> 1\u001b[0m \u001b[38;5;28;01mimport\u001b[39;00m \u001b[38;5;21;01mpyiqtree\u001b[39;00m\n\u001b[1;32m      2\u001b[0m pyiqtree\u001b[38;5;241m.\u001b[39m__version__\n",
      "File \u001b[0;32m/workspaces/pyiqtree2/pyiqtree/__init__.py:1\u001b[0m\n\u001b[0;32m----> 1\u001b[0m \u001b[38;5;28;01mfrom\u001b[39;00m \u001b[38;5;21;01m.\u001b[39;00m\u001b[38;5;21;01mlibiqtree\u001b[39;00m \u001b[38;5;28;01mimport\u001b[39;00m RF_distance, generate_random_tree_file, phylogenetic_analysis\n",
      "\u001b[0;31mImportError\u001b[0m: /workspaces/pyiqtree2/pyiqtree/libiqtree.cpython-312-x86_64-linux-gnu.so: undefined symbol: _Z21calculate_RF_distanceRKNSt7__cxx1112basic_stringIcSt11char_traitsIcESaIcEEES6_"
     ]
    }
   ],
   "source": [
    "import pyiqtree\n",
    "pyiqtree.__version__"
   ]
  },
  {
   "cell_type": "code",
   "execution_count": 5,
   "metadata": {},
   "outputs": [
    {
     "ename": "ImportError",
     "evalue": "/workspaces/pyiqtree2/pyiqtree/libiqtree.cpython-312-x86_64-linux-gnu.so: undefined symbol: _Z21calculate_RF_distanceRKNSt7__cxx1112basic_stringIcSt11char_traitsIcESaIcEEES6_",
     "output_type": "error",
     "traceback": [
      "\u001b[0;31m---------------------------------------------------------------------------\u001b[0m",
      "\u001b[0;31mImportError\u001b[0m                               Traceback (most recent call last)",
      "Cell \u001b[0;32mIn[5], line 1\u001b[0m\n\u001b[0;32m----> 1\u001b[0m \u001b[38;5;28;01mimport\u001b[39;00m \u001b[38;5;21;01mpyiqtree\u001b[39;00m\n\u001b[1;32m      2\u001b[0m tree1 \u001b[38;5;241m=\u001b[39m \u001b[38;5;124m\"\u001b[39m\u001b[38;5;124m(A,B,(C,D));\u001b[39m\u001b[38;5;124m\"\u001b[39m\n\u001b[1;32m      3\u001b[0m tree2 \u001b[38;5;241m=\u001b[39m \u001b[38;5;124m\"\u001b[39m\u001b[38;5;124m(A,C,(B,D));\u001b[39m\u001b[38;5;124m\"\u001b[39m\n",
      "File \u001b[0;32m/workspaces/pyiqtree2/pyiqtree/__init__.py:1\u001b[0m\n\u001b[0;32m----> 1\u001b[0m \u001b[38;5;28;01mfrom\u001b[39;00m \u001b[38;5;21;01m.\u001b[39;00m\u001b[38;5;21;01mlibiqtree\u001b[39;00m \u001b[38;5;28;01mimport\u001b[39;00m RF_distance, generate_random_tree_file, phylogenetic_analysis\n",
      "\u001b[0;31mImportError\u001b[0m: /workspaces/pyiqtree2/pyiqtree/libiqtree.cpython-312-x86_64-linux-gnu.so: undefined symbol: _Z21calculate_RF_distanceRKNSt7__cxx1112basic_stringIcSt11char_traitsIcESaIcEEES6_"
     ]
    }
   ],
   "source": [
    "import pyiqtree\n",
    "tree1 = \"(A,B,(C,D));\"\n",
    "tree2 = \"(A,C,(B,D));\"\n",
    "pyiqtree.RF_distance(tree1, tree2)"
   ]
  }
 ],
 "metadata": {
  "kernelspec": {
   "display_name": "c312",
   "language": "python",
   "name": "python3"
  },
  "language_info": {
   "codemirror_mode": {
    "name": "ipython",
    "version": 3
   },
   "file_extension": ".py",
   "mimetype": "text/x-python",
   "name": "python",
   "nbconvert_exporter": "python",
   "pygments_lexer": "ipython3",
   "version": "3.12.3"
  }
 },
 "nbformat": 4,
 "nbformat_minor": 2
}
